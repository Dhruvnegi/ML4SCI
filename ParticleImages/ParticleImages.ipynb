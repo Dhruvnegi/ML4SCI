{
  "nbformat": 4,
  "nbformat_minor": 0,
  "metadata": {
    "colab": {
      "name": "ParticleImages.ipynb",
      "provenance": [],
      "collapsed_sections": [],
      "toc_visible": true,
      "mount_file_id": "1UjgXgaYon3KKEPWnOXp5BUZgdsA2re9p",
      "authorship_tag": "ABX9TyPgIxmrd5jdVwwvTBNltut2",
      "include_colab_link": true
    },
    "kernelspec": {
      "name": "python3",
      "display_name": "Python 3"
    },
    "accelerator": "GPU"
  },
  "cells": [
    {
      "cell_type": "markdown",
      "metadata": {
        "id": "view-in-github",
        "colab_type": "text"
      },
      "source": [
        "<a href=\"https://colab.research.google.com/github/Shra1-25/ML4SCI/blob/main/ParticleImages/ParticleImages.ipynb\" target=\"_parent\"><img src=\"https://colab.research.google.com/assets/colab-badge.svg\" alt=\"Open In Colab\"/></a>"
      ]
    },
    {
      "cell_type": "markdown",
      "metadata": {
        "id": "P3DtjEbf8M4I"
      },
      "source": [
        "# Hackathon - Particle Images\n",
        "## Problem Statement\n",
        "\n",
        "*   One of the important aspects of searches for new physics at the Large Hadron Collider (LHC) involves the classification of various High-Energy Particles in collision events\n",
        "*   The goal of this challenge is to develop a model which classifies electron and photon electromagnetic showers as accurately as possible based on the detector images provided in the dataset below (one pixel = one channel of the detector)\n",
        "*   The preferred metric for evaluating the model is ROC curve (Receiver Operating Characteristic curve) and the AUC (Area Under the ROC Curve) score.\n",
        "\n"
      ]
    },
    {
      "cell_type": "markdown",
      "metadata": {
        "id": "g0b6SRpWl2Xh"
      },
      "source": [
        "## Create the appropriate project folder "
      ]
    },
    {
      "cell_type": "code",
      "metadata": {
        "id": "OYRULwKaw_A6"
      },
      "source": [
        "mkdir Particle_Images"
      ],
      "execution_count": 2,
      "outputs": []
    },
    {
      "cell_type": "code",
      "metadata": {
        "id": "at-4-Xub8DYW",
        "outputId": "13e86f00-9a1a-4069-99fc-aa893a8ed27a",
        "colab": {
          "base_uri": "https://localhost:8080/",
          "height": 34
        }
      },
      "source": [
        "cd Particle_Images"
      ],
      "execution_count": 3,
      "outputs": [
        {
          "output_type": "stream",
          "text": [
            "/content/Particle_Images\n"
          ],
          "name": "stdout"
        }
      ]
    },
    {
      "cell_type": "code",
      "metadata": {
        "id": "BQGKM10j2CiQ"
      },
      "source": [
        "mkdir data/"
      ],
      "execution_count": 4,
      "outputs": []
    },
    {
      "cell_type": "markdown",
      "metadata": {
        "id": "PEtRyfNv9XVn"
      },
      "source": [
        "# Download the Dataset"
      ]
    },
    {
      "cell_type": "code",
      "metadata": {
        "id": "rcK1wY4Qt_7Y",
        "outputId": "d4165924-3b95-4c30-c9d7-d37f016314e9",
        "colab": {
          "base_uri": "https://localhost:8080/",
          "height": 425
        }
      },
      "source": [
        "#!/bin/bash\n",
        "!wget https://cernbox.cern.ch/index.php/s/sHjzCNFTFxutYCj/download -O data/SingleElectronPt50_IMGCROPS_n249k_RHv1.hdf5\n",
        "!wget https://cernbox.cern.ch/index.php/s/69nGEZjOy3xGxBq/download -O data/SinglePhotonPt50_IMGCROPS_n249k_RHv1.hdf5"
      ],
      "execution_count": 5,
      "outputs": [
        {
          "output_type": "stream",
          "text": [
            "--2020-10-12 09:26:02--  https://cernbox.cern.ch/index.php/s/sHjzCNFTFxutYCj/download\n",
            "Resolving cernbox.cern.ch (cernbox.cern.ch)... 128.142.32.38, 137.138.120.151, 128.142.32.26, ...\n",
            "Connecting to cernbox.cern.ch (cernbox.cern.ch)|128.142.32.38|:443... connected.\n",
            "HTTP request sent, awaiting response... 200 OK\n",
            "Length: 87010508 (83M) [application/octet-stream]\n",
            "Saving to: ‘data/SingleElectronPt50_IMGCROPS_n249k_RHv1.hdf5’\n",
            "\n",
            "data/SingleElectron 100%[===================>]  82.98M  4.12MB/s    in 18s     \n",
            "\n",
            "Last-modified header invalid -- time-stamp ignored.\n",
            "2020-10-12 09:26:24 (4.69 MB/s) - ‘data/SingleElectronPt50_IMGCROPS_n249k_RHv1.hdf5’ saved [87010508/87010508]\n",
            "\n",
            "--2020-10-12 09:26:24--  https://cernbox.cern.ch/index.php/s/69nGEZjOy3xGxBq/download\n",
            "Resolving cernbox.cern.ch (cernbox.cern.ch)... 188.184.97.72, 128.142.32.38, 128.142.32.26, ...\n",
            "Connecting to cernbox.cern.ch (cernbox.cern.ch)|188.184.97.72|:443... connected.\n",
            "HTTP request sent, awaiting response... 200 OK\n",
            "Length: 79876391 (76M) [application/octet-stream]\n",
            "Saving to: ‘data/SinglePhotonPt50_IMGCROPS_n249k_RHv1.hdf5’\n",
            "\n",
            "data/SinglePhotonPt 100%[===================>]  76.18M  8.00MB/s    in 11s     \n",
            "\n",
            "Last-modified header invalid -- time-stamp ignored.\n",
            "2020-10-12 09:26:38 (6.78 MB/s) - ‘data/SinglePhotonPt50_IMGCROPS_n249k_RHv1.hdf5’ saved [79876391/79876391]\n",
            "\n"
          ],
          "name": "stdout"
        }
      ]
    },
    {
      "cell_type": "markdown",
      "metadata": {
        "id": "BepRE7pn8Du7"
      },
      "source": [
        "# Import modules"
      ]
    },
    {
      "cell_type": "code",
      "metadata": {
        "id": "ZnLzC5paz0hb"
      },
      "source": [
        "import numpy as np\n",
        "np.random.seed(1337)  # for reproducibility\n",
        "import h5py\n",
        "from keras.models import Sequential\n",
        "from keras.optimizers import Adam\n",
        "from keras.initializers import TruncatedNormal\n",
        "from keras.layers import Input, Dense, Dropout, Flatten, Conv2D, MaxPooling2D\n",
        "from keras.callbacks import ReduceLROnPlateau\n",
        "\n",
        "from sklearn.metrics import roc_curve, auc\n",
        "\n",
        "import matplotlib.pyplot as plt"
      ],
      "execution_count": 6,
      "outputs": []
    },
    {
      "cell_type": "markdown",
      "metadata": {
        "id": "Az_MoJwZ8K6l"
      },
      "source": [
        "# Keras Model Parameters"
      ]
    },
    {
      "cell_type": "code",
      "metadata": {
        "id": "ZzF8AHl_4yUA"
      },
      "source": [
        "lr_init     = 1.e-3    # Initial learning rate  \n",
        "batch_size  = 64       # Training batch size\n",
        "train_size  = 1024     # Training size\n",
        "valid_size  = 1024     # Validation size\n",
        "test_size   = 1024     # Test size\n",
        "epochs      = 20       # Number of epochs\n",
        "doGPU       = False    # Use GPU"
      ],
      "execution_count": 7,
      "outputs": []
    },
    {
      "cell_type": "markdown",
      "metadata": {
        "id": "_jX_l-WmplJx"
      },
      "source": [
        "## It is recommended to use GPU for training and inference if possible."
      ]
    },
    {
      "cell_type": "code",
      "metadata": {
        "id": "PVq1XGr640nJ"
      },
      "source": [
        "if doGPU:\n",
        "    import tensorflow as tf\n",
        "    from keras.backend.tensorflow_backend import set_session\n",
        "    config = tf.ConfigProto()\n",
        "    config.gpu_options.allow_growth=True\n",
        "    set_session(tf.Session(config=config))"
      ],
      "execution_count": 8,
      "outputs": []
    },
    {
      "cell_type": "markdown",
      "metadata": {
        "id": "xwc56kXJ8TLo"
      },
      "source": [
        "# Load Image Data\n",
        "## Two classes of particles: electrons and photons\n",
        "## 32x32 matrices (two channels - hit energy and time) for the two classes of particles electrons and photons impinging on a calorimeter (one calorimetric cell = one pixel).\n",
        "### Please note that although timing channel is provided, it may not necessarily help the performance of the model."
      ]
    },
    {
      "cell_type": "code",
      "metadata": {
        "id": "kr4QIMlt424u"
      },
      "source": [
        "img_rows, img_cols, nb_channels = 32, 32, 2        \n",
        "input_dir = 'data'\n",
        "decays = ['SinglePhotonPt50_IMGCROPS_n249k_RHv1', 'SingleElectronPt50_IMGCROPS_n249k_RHv1']\n",
        "\n",
        "def load_data(decays, start, stop):\n",
        "    global input_dir\n",
        "    dsets = [h5py.File('%s/%s.hdf5'%(input_dir,decay)) for decay in decays]\n",
        "    X = np.concatenate([dset['/X'][start:stop] for dset in dsets])\n",
        "    y = np.concatenate([dset['/y'][start:stop] for dset in dsets])\n",
        "    assert len(X) == len(y)\n",
        "    return X, y"
      ],
      "execution_count": 9,
      "outputs": []
    },
    {
      "cell_type": "markdown",
      "metadata": {
        "id": "-JpHCOf38fDL"
      },
      "source": [
        "# Configure Training / Validation / Test Sets"
      ]
    },
    {
      "cell_type": "code",
      "metadata": {
        "id": "-RTXS58x46Fq",
        "outputId": "a65e5b8c-670b-4744-b870-d5e3348dc70c",
        "colab": {
          "base_uri": "https://localhost:8080/",
          "height": 71
        }
      },
      "source": [
        "# Set range of training set\n",
        "train_start, train_stop = 0, train_size\n",
        "assert train_stop > train_start\n",
        "assert (len(decays)*train_size) % batch_size == 0\n",
        "X_train, y_train = load_data(decays,train_start,train_stop)\n",
        "\n",
        "# Set range of validation set\n",
        "valid_start, valid_stop = 160000, 160000+valid_size\n",
        "assert valid_stop  >  valid_start\n",
        "assert valid_start >= train_stop\n",
        "X_valid, y_valid = load_data(decays,valid_start,valid_stop)\n",
        "\n",
        "# Set range of test set\n",
        "test_start, test_stop = 204800, 204800+test_size\n",
        "assert test_stop  >  test_start\n",
        "assert test_start >= valid_stop\n",
        "X_test, y_test = load_data(decays,test_start,test_stop)\n",
        "\n",
        "samples_requested = len(decays) * (train_size + valid_size + test_size)\n",
        "samples_available = len(y_train) + len(y_valid) + len(y_test)\n",
        "assert samples_requested == samples_available"
      ],
      "execution_count": 10,
      "outputs": [
        {
          "output_type": "stream",
          "text": [
            "/usr/local/lib/python3.6/dist-packages/ipykernel_launcher.py:7: H5pyDeprecationWarning: The default file mode will change to 'r' (read-only) in h5py 3.0. To suppress this warning, pass the mode you need to h5py.File(), or set the global default h5.get_config().default_file_mode, or set the environment variable H5PY_DEFAULT_READONLY=1. Available modes are: 'r', 'r+', 'w', 'w-'/'x', 'a'. See the docs for details.\n",
            "  import sys\n"
          ],
          "name": "stderr"
        }
      ]
    },
    {
      "cell_type": "markdown",
      "metadata": {
        "id": "UTFIMRnL8w41"
      },
      "source": [
        "# Plot sample of training images"
      ]
    },
    {
      "cell_type": "code",
      "metadata": {
        "id": "e_IDs16U52-C",
        "outputId": "ba3a082c-4cb9-453e-f243-691d545246a1",
        "colab": {
          "base_uri": "https://localhost:8080/",
          "height": 163
        }
      },
      "source": [
        "plt.figure(1)\n",
        "\n",
        "plt.subplot(221)\n",
        "plt.imshow(X_train[1,:,:,0])\n",
        "plt.title(\"Channel 0: Energy\")  # Energy\n",
        "plt.grid(True)\n",
        "\n",
        "plt.subplot(222)\n",
        "plt.imshow(X_train[1,:,:,1])\n",
        "plt.title(\"Channel 1: Time\")  # Time\n",
        "plt.grid(True)\n",
        "\n",
        "\n",
        "plt.show()"
      ],
      "execution_count": 11,
      "outputs": [
        {
          "output_type": "display_data",
          "data": {
            "image/png": "[encoded data removed]",
            "text/plain": [
              "<Figure size 432x288 with 2 Axes>"
            ]
          },
          "metadata": {
            "tags": [],
            "needs_background": "light"
          }
        }
      ]
    },
    {
      "cell_type": "markdown",
      "metadata": {
        "id": "ke_NQLiz83jZ"
      },
      "source": [
        "# Define CNN Model\n",
        "## This is a sample model. You can experiment with the model and try various architectures and other models to achieve the highest possible performance.  "
      ]
    },
    {
      "cell_type": "code",
      "metadata": {
        "id": "OlIJuxXG7KDk",
        "outputId": "11edcd82-e27a-45ca-92ce-fb1ceecd5a26",
        "colab": {
          "base_uri": "https://localhost:8080/",
          "height": 561
        }
      },
      "source": [
        "### Define Convolutional Neural Network (CNN) Model ###\n",
        "\n",
        "model = Sequential()\n",
        "model.add(Conv2D(16, activation='relu', kernel_size=3, padding='same', kernel_initializer='TruncatedNormal', input_shape=(img_rows, img_cols, nb_channels)))\n",
        "model.add(Conv2D(16, activation='relu', kernel_size=3, padding='same', kernel_initializer='TruncatedNormal'))\n",
        "model.add(MaxPooling2D(pool_size=(2, 2)))\n",
        "model.add(Conv2D(32, activation='relu', kernel_size=3, padding='same', kernel_initializer='TruncatedNormal'))\n",
        "model.add(Conv2D(32, activation='relu', kernel_size=3, padding='same', kernel_initializer='TruncatedNormal'))\n",
        "model.add(MaxPooling2D(pool_size=(2, 2)))\n",
        "model.add(Flatten())\n",
        "model.add(Dense(256, activation='relu', kernel_initializer='TruncatedNormal'))\n",
        "model.add(Dropout(0.2))\n",
        "model.add(Dense(128, activation='relu', kernel_initializer='TruncatedNormal'))\n",
        "model.add(Dropout(0.2))\n",
        "model.add(Dense(1, activation='sigmoid', kernel_initializer='TruncatedNormal'))\n",
        "model.compile(loss='binary_crossentropy', optimizer=Adam(lr=lr_init), metrics=['accuracy'])\n",
        "model.summary()"
      ],
      "execution_count": 12,
      "outputs": [
        {
          "output_type": "stream",
          "text": [
            "Model: \"sequential\"\n",
            "_________________________________________________________________\n",
            "Layer (type)                 Output Shape              Param #   \n",
            "=================================================================\n",
            "conv2d (Conv2D)              (None, 32, 32, 16)        304       \n",
            "_________________________________________________________________\n",
            "conv2d_1 (Conv2D)            (None, 32, 32, 16)        2320      \n",
            "_________________________________________________________________\n",
            "max_pooling2d (MaxPooling2D) (None, 16, 16, 16)        0         \n",
            "_________________________________________________________________\n",
            "conv2d_2 (Conv2D)            (None, 16, 16, 32)        4640      \n",
            "_________________________________________________________________\n",
            "conv2d_3 (Conv2D)            (None, 16, 16, 32)        9248      \n",
            "_________________________________________________________________\n",
            "max_pooling2d_1 (MaxPooling2 (None, 8, 8, 32)          0         \n",
            "_________________________________________________________________\n",
            "flatten (Flatten)            (None, 2048)              0         \n",
            "_________________________________________________________________\n",
            "dense (Dense)                (None, 256)               524544    \n",
            "_________________________________________________________________\n",
            "dropout (Dropout)            (None, 256)               0         \n",
            "_________________________________________________________________\n",
            "dense_1 (Dense)              (None, 128)               32896     \n",
            "_________________________________________________________________\n",
            "dropout_1 (Dropout)          (None, 128)               0         \n",
            "_________________________________________________________________\n",
            "dense_2 (Dense)              (None, 1)                 129       \n",
            "=================================================================\n",
            "Total params: 574,081\n",
            "Trainable params: 574,081\n",
            "Non-trainable params: 0\n",
            "_________________________________________________________________\n"
          ],
          "name": "stdout"
        }
      ]
    },
    {
      "cell_type": "markdown",
      "metadata": {
        "id": "bsQWFD0M86pA"
      },
      "source": [
        "## Train the Model\n",
        "### You may optimize the model, tune hyper-parameters, etc. accordingly."
      ]
    },
    {
      "cell_type": "code",
      "metadata": {
        "id": "ZGuyM25L7uc0",
        "outputId": "eead6037-3b68-46c8-9d65-2636c2fe1082",
        "colab": {
          "base_uri": "https://localhost:8080/",
          "height": 734
        }
      },
      "source": [
        "reduce_lr = ReduceLROnPlateau(monitor='val_loss', factor=0.2, patience=2, min_lr=1.e-6)\n",
        "history=model.fit(X_train, y_train,\\\n",
        "        batch_size=batch_size,\\\n",
        "        epochs=epochs,\\\n",
        "        validation_data=(X_valid, y_valid),\\\n",
        "        callbacks=[reduce_lr],\\\n",
        "        verbose=1, shuffle=True)"
      ],
      "execution_count": 13,
      "outputs": [
        {
          "output_type": "stream",
          "text": [
            "Epoch 1/20\n",
            "26/32 [=======================>......] - ETA: 0s - loss: 0.6933 - accuracy: 0.4982WARNING:tensorflow:Callbacks method `on_test_batch_end` is slow compared to the batch time (batch time: 0.0019s vs `on_test_batch_end` time: 0.0039s). Check your callbacks.\n",
            "32/32 [==============================] - 1s 18ms/step - loss: 0.6933 - accuracy: 0.4941 - val_loss: 0.6931 - val_accuracy: 0.5000\n",
            "Epoch 2/20\n",
            "32/32 [==============================] - 0s 11ms/step - loss: 0.6932 - accuracy: 0.4966 - val_loss: 0.6928 - val_accuracy: 0.5000\n",
            "Epoch 3/20\n",
            "32/32 [==============================] - 0s 11ms/step - loss: 0.6905 - accuracy: 0.5415 - val_loss: 0.6857 - val_accuracy: 0.5664\n",
            "Epoch 4/20\n",
            "32/32 [==============================] - 0s 11ms/step - loss: 0.6801 - accuracy: 0.5679 - val_loss: 0.6835 - val_accuracy: 0.5542\n",
            "Epoch 5/20\n",
            "32/32 [==============================] - 0s 10ms/step - loss: 0.6722 - accuracy: 0.5840 - val_loss: 0.6793 - val_accuracy: 0.5757\n",
            "Epoch 6/20\n",
            "32/32 [==============================] - 0s 11ms/step - loss: 0.6669 - accuracy: 0.5977 - val_loss: 0.6814 - val_accuracy: 0.5796\n",
            "Epoch 7/20\n",
            "32/32 [==============================] - 0s 11ms/step - loss: 0.6566 - accuracy: 0.6069 - val_loss: 0.6718 - val_accuracy: 0.5879\n",
            "Epoch 8/20\n",
            "32/32 [==============================] - 0s 10ms/step - loss: 0.6429 - accuracy: 0.6274 - val_loss: 0.6748 - val_accuracy: 0.5732\n",
            "Epoch 9/20\n",
            "32/32 [==============================] - 0s 10ms/step - loss: 0.6386 - accuracy: 0.6411 - val_loss: 0.6804 - val_accuracy: 0.5732\n",
            "Epoch 10/20\n",
            "32/32 [==============================] - 0s 11ms/step - loss: 0.6290 - accuracy: 0.6553 - val_loss: 0.6779 - val_accuracy: 0.5854\n",
            "Epoch 11/20\n",
            "32/32 [==============================] - 0s 11ms/step - loss: 0.6178 - accuracy: 0.6665 - val_loss: 0.6849 - val_accuracy: 0.5869\n",
            "Epoch 12/20\n",
            "32/32 [==============================] - 0s 11ms/step - loss: 0.6130 - accuracy: 0.6738 - val_loss: 0.6840 - val_accuracy: 0.5874\n",
            "Epoch 13/20\n",
            "32/32 [==============================] - 0s 11ms/step - loss: 0.6114 - accuracy: 0.6777 - val_loss: 0.6851 - val_accuracy: 0.5869\n",
            "Epoch 14/20\n",
            "32/32 [==============================] - 0s 11ms/step - loss: 0.6110 - accuracy: 0.6714 - val_loss: 0.6851 - val_accuracy: 0.5869\n",
            "Epoch 15/20\n",
            "32/32 [==============================] - 0s 11ms/step - loss: 0.6105 - accuracy: 0.6758 - val_loss: 0.6850 - val_accuracy: 0.5869\n",
            "Epoch 16/20\n",
            "32/32 [==============================] - 0s 11ms/step - loss: 0.6105 - accuracy: 0.6748 - val_loss: 0.6850 - val_accuracy: 0.5869\n",
            "Epoch 17/20\n",
            "32/32 [==============================] - 0s 11ms/step - loss: 0.6136 - accuracy: 0.6724 - val_loss: 0.6851 - val_accuracy: 0.5869\n",
            "Epoch 18/20\n",
            "32/32 [==============================] - 0s 11ms/step - loss: 0.6140 - accuracy: 0.6758 - val_loss: 0.6850 - val_accuracy: 0.5869\n",
            "Epoch 19/20\n",
            "32/32 [==============================] - 0s 11ms/step - loss: 0.6112 - accuracy: 0.6777 - val_loss: 0.6850 - val_accuracy: 0.5869\n",
            "Epoch 20/20\n",
            "32/32 [==============================] - 0s 11ms/step - loss: 0.6144 - accuracy: 0.6724 - val_loss: 0.6850 - val_accuracy: 0.5869\n"
          ],
          "name": "stdout"
        }
      ]
    },
    {
      "cell_type": "markdown",
      "metadata": {
        "id": "oLoN43278_-j"
      },
      "source": [
        "## Evaluate the Model  \n",
        "### Along with the model accuracy, the prefered metric for evaluation is ROC (Receiver Operating Characteristic) curve and the AUC score (Area under the ROC Curve)."
      ]
    },
    {
      "cell_type": "code",
      "metadata": {
        "id": "ekuQLYas7xh5",
        "outputId": "70e4a948-1d24-4528-fbb7-d5f029fa06f2",
        "colab": {
          "base_uri": "https://localhost:8080/",
          "height": 153
        }
      },
      "source": [
        "# Evaluate on validation set\n",
        "score = model.evaluate(X_valid, y_valid, verbose=1)\n",
        "print('\\nValidation loss / accuracy: %0.4f / %0.4f'%(score[0], score[1]))\n",
        "y_pred = model.predict(X_valid)\n",
        "fpr, tpr, _ = roc_curve(y_valid, y_pred)\n",
        "roc_auc = auc(fpr, tpr)\n",
        "print('Validation ROC AUC:', roc_auc)\n",
        "\n",
        "# Evaluate on test set\n",
        "score = model.evaluate(X_test, y_test, verbose=1)\n",
        "print('\\nTest loss / accuracy: %0.4f / %0.4f'%(score[0], score[1]))\n",
        "y_pred = model.predict(X_test)\n",
        "fpr, tpr, _ = roc_curve(y_test, y_pred)\n",
        "roc_auc = auc(fpr, tpr)\n",
        "print('Test ROC AUC:', roc_auc)"
      ],
      "execution_count": 14,
      "outputs": [
        {
          "output_type": "stream",
          "text": [
            "64/64 [==============================] - 0s 3ms/step - loss: 0.6850 - accuracy: 0.5869\n",
            "\n",
            "Validation loss / accuracy: 0.6850 / 0.5869\n",
            "Validation ROC AUC: 0.6159896850585938\n",
            "64/64 [==============================] - 0s 3ms/step - loss: 0.6861 - accuracy: 0.5942\n",
            "\n",
            "Test loss / accuracy: 0.6861 / 0.5942\n",
            "Test ROC AUC: 0.6193246841430664\n"
          ],
          "name": "stdout"
        }
      ]
    },
    {
      "cell_type": "code",
      "metadata": {
        "id": "kmSRYI0R72Wn",
        "outputId": "d18d771d-5dd2-450e-f959-4798f6a09260",
        "colab": {
          "base_uri": "https://localhost:8080/",
          "height": 295
        }
      },
      "source": [
        "plt.plot([0, 1], [0, 1], 'k--')\n",
        "#plt.legend(loc=2, prop={'size': 15})\n",
        "plt.plot(fpr, tpr, label='Model 1 (ROC-AUC = {:.3f})'.format(roc_auc))\n",
        "plt.xlabel('False positive rate')\n",
        "plt.ylabel('True positive rate')\n",
        "plt.title('ROC curve')\n",
        "plt.legend(loc='best')\n",
        "plt.show()"
      ],
      "execution_count": 15,
      "outputs": [
        {
          "output_type": "display_data",
          "data": {
            "image/png": "[encoded data removed]",
            "text/plain": [
              "<Figure size 432x288 with 1 Axes>"
            ]
          },
          "metadata": {
            "tags": [],
            "needs_background": "light"
          }
        }
      ]
    },
    {
      "cell_type": "markdown",
      "metadata": {
        "id": "Nna7GkM45Y5w"
      },
      "source": [
        "# Submission format: \n",
        "## Please the Google Colab Jupyter Notebook demonstrating your solution in the similar format as in this notebook. It should contain :\n",
        "*   The final model architecture, parameters and hyper-parameters yielding the best possible performance,\n",
        "*   Its Training and Validation accuracy, \n",
        "*   ROC curve and the AUC score as shown above."
      ]
    },
    {
      "cell_type": "code",
      "metadata": {
        "id": "ek82eKnpBuI8"
      },
      "source": [
        ""
      ],
      "execution_count": null,
      "outputs": []
    }
  ]
}